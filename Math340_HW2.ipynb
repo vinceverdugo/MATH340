{
 "cells": [
  {
   "cell_type": "markdown",
   "id": "ab3a79e5-4f2e-4e91-bef4-3ed87ab1ce2a",
   "metadata": {
    "id": "ab3a79e5-4f2e-4e91-bef4-3ed87ab1ce2a"
   },
   "source": [
    "<center>\n",
    "<div class=\"alert alert-block alert-info\">\n",
    "    <h1> </h1>\n",
    "    <h1><font size=\"+3\"> <b> Math340 HW2 </b> </font></h1>\n",
    "    <h1><font size=\"+3\"> <b> Programming in Mathematics </b> </font></h1>\n",
    "    <h1><font size=\"+3\"> <b> Due September 13, 2024 </b> </font></h1>\n",
    "    \n",
    "</div>\n",
    "</center>\n",
    "\n",
    "<br>\n",
    "\n",
    "\n",
    "\n",
    "<center>\n",
    "<font size=\"+2\">\n",
    "Department of Mathematics and Statistics <br> <br>\n",
    "San Diego State University <br> <br>\n",
    "Fall 2024\n",
    "</font>\n",
    "</center>\n",
    "\n",
    "\n",
    "\n",
    "\n",
    "\n",
    "\n"
   ]
  },
  {
   "cell_type": "markdown",
   "id": "d1d7dfac",
   "metadata": {
    "id": "d1d7dfac"
   },
   "source": [
    "## Your Name: Vince Verdugo\n",
    "\n",
    "## Your ID: 826107601"
   ]
  },
  {
   "cell_type": "markdown",
   "id": "ac00d7e8-7894-471c-b22c-534f7bb771c5",
   "metadata": {
    "id": "ac00d7e8-7894-471c-b22c-534f7bb771c5"
   },
   "source": [
    "## 1. Summary"
   ]
  },
  {
   "cell_type": "markdown",
   "id": "e5e767c2-73b8-4c0e-97e4-4e44b568eba4",
   "metadata": {
    "id": "e5e767c2-73b8-4c0e-97e4-4e44b568eba4"
   },
   "source": [
    "Question 1: I used a decrementing for loop to print each value from the range [10,2). "
   ]
  },
  {
   "cell_type": "markdown",
   "id": "6657e8aa",
   "metadata": {},
   "source": [
    "Question 2: First, I created an array of strings named A_week that contained the abbreviations for each day of the week. Then I used np.arange to create an array names A_days that contained the numbers 1-30 for the 30 days of September. I printed \"September 2024\", then implemented a for loop to print the contents of A_week. I then used another for loop to print the contents of A_days. In this last for loop, I used an 'if, else' statement as well as a lone 'if' statement. The 'if, else' statement was used to align the single digit values with the double digit values. The 'if' statement was used to create a new line at the end of each week "
   ]
  },
  {
   "cell_type": "markdown",
   "id": "519956c3",
   "metadata": {},
   "source": [
    "Question 3: I used a cell where I had the equation for interest, and a value P for principal. By manually changing the value of P, I was able to generate the same results from the given code. \n",
    "There was two places in the given code where I was able to incorporate the '+=' operator."
   ]
  },
  {
   "cell_type": "markdown",
   "id": "f62bd70e",
   "metadata": {},
   "source": [
    "Question 4: I used markdown cells and LaTex notation to generate a system of ODEs for the 1963 Lorenz model and the 5D Lorenz model "
   ]
  },
  {
   "cell_type": "markdown",
   "id": "c2d32951-96b7-4688-a721-8c2468b075e5",
   "metadata": {
    "id": "c2d32951-96b7-4688-a721-8c2468b075e5"
   },
   "source": [
    "## 2. Methodology"
   ]
  },
  {
   "cell_type": "markdown",
   "id": "06e8a2a7",
   "metadata": {
    "id": "06e8a2a7"
   },
   "source": [
    "In questions 1 and 2, I implemented for loops to generate my desired output. For question 1, I used a decrementing for loop by calling range(10,2,-1). The '-1' at the end of that statement was the specified step that allowed my for loop to decrement correctly. In question 2, I used print(___, end=\" \") to print the contents of my for loops on the same line.\n",
    "\n",
    "Further, in question 2 I used 'import numpy as np' so that I could shorthand numpy whenever I wanted to call it. When using numpy, I used np.array to create an array that I manually filled and I used np.arange to create an array of elements 1-30 without having to do it manually. To create a new line at the end of each week, I used an if statement with the parameters '((j+1)%7 == 0)'. j+1 would shift the index over 1 to represent the value at j instead of its index. Since September 2024 begins on a Sunday, (j+1)%7 allowed me to create a new line at the end of each week (7, 14, 21, 28). \n",
    "\n",
    "For question 3, I used 'print(f\"{funds:.2f}\")' to format my output and round the value of funds to two decimal places. \n",
    "\n",
    "For question 4, I used the double $ notation to center each line of code, and I used '\\' to call \"partial\", \"over\", \"tau\", \"sigma\", \"rho\", and \"beta\""
   ]
  },
  {
   "cell_type": "markdown",
   "id": "6241913d-4853-4c7d-b624-709b27e427e5",
   "metadata": {
    "id": "6241913d-4853-4c7d-b624-709b27e427e5"
   },
   "source": [
    "## 3. Code and Results (e.g., Tables, Figures, Outputs)"
   ]
  },
  {
   "cell_type": "markdown",
   "id": "875c1e32",
   "metadata": {
    "id": "875c1e32"
   },
   "source": [
    "### Results for Question 1 (within a Markdown cell)"
   ]
  },
  {
   "cell_type": "code",
   "execution_count": 1,
   "id": "36708339",
   "metadata": {
    "id": "36708339"
   },
   "outputs": [
    {
     "name": "stdout",
     "output_type": "stream",
     "text": [
      "10\n",
      "9\n",
      "8\n",
      "7\n",
      "6\n",
      "5\n",
      "4\n",
      "3\n"
     ]
    }
   ],
   "source": [
    "#Decrementing for loop\n",
    "#First element is 10, last element is 2, step is -1\n",
    "for i in range(10,2,-1):\n",
    "    print(i)"
   ]
  },
  {
   "cell_type": "markdown",
   "id": "a08c5884",
   "metadata": {
    "id": "a08c5884"
   },
   "source": [
    "### Results for Question 2 (within a Markdown cell)"
   ]
  },
  {
   "cell_type": "code",
   "execution_count": 2,
   "id": "db376cb8",
   "metadata": {
    "id": "db376cb8",
    "scrolled": true
   },
   "outputs": [
    {
     "name": "stdout",
     "output_type": "stream",
     "text": [
      "   September 2024     \r\n",
      "Su Mo Tu We Th Fr Sa  \r\n",
      " 1  2  3  4  5  6  7  \r\n",
      " 8  9 10 11 12 13 14  \r\n",
      "15 16 \u001b[7m17\u001b[m 18 19 20 21  \r\n",
      "22 23 24 25 26 27 28  \r\n",
      "29 30                 \r\n",
      "                      \r\n"
     ]
    }
   ],
   "source": [
    "# Question 2\n",
    "!cal 9 2024"
   ]
  },
  {
   "cell_type": "code",
   "execution_count": 3,
   "id": "9d7a1ed2-d4b8-46d9-8b9c-db6061940637",
   "metadata": {},
   "outputs": [
    {
     "name": "stdout",
     "output_type": "stream",
     "text": [
      "   September 2024\n",
      "Su Mo Tu We Th Fr Sa \n",
      "1  2  3  4  5  6  7  \n",
      "8  9  10 11 12 13 14 \n",
      "15 16 17 18 19 20 21 \n",
      "22 23 24 25 26 27 28 \n",
      "29 30 "
     ]
    }
   ],
   "source": [
    "#Code to reproduce calendar\n",
    "import numpy as np\n",
    "\n",
    "#Create days of week array and days array with 30 elements\n",
    "A_week = np.array(['Su', 'Mo', 'Tu', 'We', 'Th', 'Fr', 'Sa'])\n",
    "A_days = np.arange(1, 31)\n",
    "\n",
    "#Print month and year\n",
    "print(f\"   September 2024\")\n",
    "#Print days of the week on same line using end=, followed by new line\n",
    "for i in range(0, 7):\n",
    "    print(A_week[i], end=\" \")\n",
    "print(\"\")\n",
    "\n",
    "#Loop through the days of the month\n",
    "for j in range(0, 30):\n",
    "    #For formatting, single digit days are followed by two spaces \n",
    "    if A_days[j] < 10:\n",
    "        print(A_days[j], end=\"  \")\n",
    "    #Double digit days followed by one space\n",
    "    else:\n",
    "        print(A_days[j], end=\" \")\n",
    "    #Create new line at end of each week\n",
    "    if ((j+1)%7 == 0):\n",
    "        print(\"\")"
   ]
  },
  {
   "cell_type": "code",
   "execution_count": 2,
   "id": "762f68b7",
   "metadata": {},
   "outputs": [
    {
     "name": "stdout",
     "output_type": "stream",
     "text": [
      "Collecting termcolor\n",
      "  Obtaining dependency information for termcolor from https://files.pythonhosted.org/packages/d9/5f/8c716e47b3a50cbd7c146f45881e11d9414def768b7cd9c5e6650ec2a80a/termcolor-2.4.0-py3-none-any.whl.metadata\n",
      "  Downloading termcolor-2.4.0-py3-none-any.whl.metadata (6.1 kB)\n",
      "Downloading termcolor-2.4.0-py3-none-any.whl (7.7 kB)\n",
      "Installing collected packages: termcolor\n",
      "Successfully installed termcolor-2.4.0\n"
     ]
    }
   ],
   "source": [
    "!pip install termcolor"
   ]
  },
  {
   "cell_type": "code",
   "execution_count": 16,
   "id": "8b7af7ae",
   "metadata": {},
   "outputs": [
    {
     "name": "stdout",
     "output_type": "stream",
     "text": [
      "   September 2024\n",
      "Su Mo Tu We Th Fr Sa \n",
      "1  2  3  4  5  6  7  \n",
      "8  9  10 11 12 13 14 \n",
      "15 16 17 18 \u001b[42m\u001b[30m19\u001b[0m 20 21 \n",
      "22 23 24 25 26 27 28 \n",
      "29 30 "
     ]
    }
   ],
   "source": [
    "#Code to reproduce calendar\n",
    "import numpy as np\n",
    "from termcolor import colored \n",
    "\n",
    "#Create days of week array and days array with 30 elements\n",
    "A_week = np.array(['Su', 'Mo', 'Tu', 'We', 'Th', 'Fr', 'Sa'])\n",
    "A_days = np.arange(1, 31)\n",
    "\n",
    "#Print month and year\n",
    "print(r'   September 2024')\n",
    "#Print days of the week on same line using end=, followed by new line\n",
    "for i in range(0, 7):\n",
    "    print(A_week[i], end=\" \")\n",
    "print(\"\")\n",
    "\n",
    "#Loop through the days of the month\n",
    "for j in range(0, 30):\n",
    "    #For formatting, single digit days are followed by two spaces \n",
    "    if A_days[j] < 10:\n",
    "        print(A_days[j], end=\"  \")\n",
    "    #Double digit days followed by one space\n",
    "    else:\n",
    "        if (A_days[j]==19):\n",
    "            print(colored(A_days[j], 'black', 'on_green'), end=\" \")\n",
    "        else:\n",
    "            print(A_days[j], end=\" \")\n",
    "    #Create new line at end of each week\n",
    "    if ((j+1)%7 == 0):\n",
    "        print(\"\")"
   ]
  },
  {
   "cell_type": "code",
   "execution_count": 7,
   "id": "6d6f9e30",
   "metadata": {},
   "outputs": [
    {
     "name": "stdout",
     "output_type": "stream",
     "text": [
      "Hello, World!\n"
     ]
    }
   ],
   "source": [
    "from colorama import init\n",
    "from termcolor import colored\n",
    " \n",
    "init()\n",
    " \n",
    "print(colored('Hello, World!', 'green', 'on_red'))"
   ]
  },
  {
   "cell_type": "markdown",
   "id": "7d605a4c",
   "metadata": {
    "id": "7d605a4c"
   },
   "source": [
    "### Results for Question 3 (within a Markdown cell)"
   ]
  },
  {
   "cell_type": "code",
   "execution_count": 4,
   "id": "e9a18bdd",
   "metadata": {
    "id": "e9a18bdd"
   },
   "outputs": [
    {
     "name": "stdout",
     "output_type": "stream",
     "text": [
      "For 1 Year, Current Funds: $105.60\n",
      "For 2 Years, Current Funds: $111.51\n",
      "For 3 Years, Current Funds: $117.76\n",
      "For 4 Years, Current Funds: $124.35\n",
      "For 5 Years, Current Funds: $131.32\n",
      "For 6 Years, Current Funds: $138.67\n",
      "For 7 Years, Current Funds: $146.44\n",
      "For 8 Years, Current Funds: $154.64\n"
     ]
    }
   ],
   "source": [
    "# Given code for Question 3\n",
    "initial_funds = 100\n",
    "current_funds = initial_funds\n",
    "interest_rate = 5.6 # interest rate in percentage\n",
    "years = 0\n",
    "while current_funds <= 1.5*initial_funds:\n",
    "    current_funds = current_funds + (interest_rate/100.0) * current_funds\n",
    "    years = years + 1\n",
    "    print(f\"For {years} {'Year' if years == 1 else 'Years'}, Current Funds: ${current_funds:.2f}\")"
   ]
  },
  {
   "cell_type": "code",
   "execution_count": 5,
   "id": "f7ae7964",
   "metadata": {},
   "outputs": [
    {
     "name": "stdout",
     "output_type": "stream",
     "text": [
      "117.75\n"
     ]
    }
   ],
   "source": [
    "#My code\n",
    "P = 111.51\n",
    "r = 5.6\n",
    "funds = P + (r/100)*P\n",
    "print(f\"{funds:.2f}\")"
   ]
  },
  {
   "cell_type": "code",
   "execution_count": 6,
   "id": "6f6c8bb8",
   "metadata": {},
   "outputs": [
    {
     "name": "stdout",
     "output_type": "stream",
     "text": [
      "For 1 Year, Current Funds: $105.60\n",
      "For 2 Years, Current Funds: $111.51\n",
      "For 3 Years, Current Funds: $117.76\n",
      "For 4 Years, Current Funds: $124.35\n",
      "For 5 Years, Current Funds: $131.32\n",
      "For 6 Years, Current Funds: $138.67\n",
      "For 7 Years, Current Funds: $146.44\n",
      "For 8 Years, Current Funds: $154.64\n"
     ]
    }
   ],
   "source": [
    "#Code rewritten with +=\n",
    "initial_funds = 100\n",
    "current_funds = initial_funds\n",
    "interest_rate = 5.6 # interest rate in percentage\n",
    "years = 0\n",
    "while current_funds <= 1.5*initial_funds:\n",
    "    current_funds += (interest_rate/100.0)*current_funds\n",
    "    years += 1\n",
    "    print(f\"For {years} {'Year' if years == 1 else 'Years'}, Current Funds: ${current_funds:.2f}\")"
   ]
  },
  {
   "cell_type": "markdown",
   "id": "4c0f0750",
   "metadata": {},
   "source": [
    "### Results for Question 4\n"
   ]
  },
  {
   "cell_type": "markdown",
   "id": "7daf1729",
   "metadata": {},
   "source": [
    "#### 1963 Lorenz Model\n",
    "$$ {\\partial X \\over \\partial \\tau } = \\sigma Y - \\sigma X$$\n",
    "$$ {\\partial Y \\over \\partial \\tau } = -XZ + r X - Y $$\n",
    "$$ {\\partial Z \\over \\partial \\tau } = XY - \\beta Z $$"
   ]
  },
  {
   "cell_type": "markdown",
   "id": "58f5209d",
   "metadata": {},
   "source": [
    "#### 5D Lorenz Model\n",
    "$$ {dx \\over dt} = \\sigma(y-x)$$\n",
    "$$ {dy \\over dt} = x(\\rho-z)$$\n",
    "$$ {dz \\over dt} = xy - xy_{1} - \\beta z$$\n",
    "$$ {dy_{1} \\over dt} = xz - 2xz_{1} - d_{0}y_{1}$$\n",
    "$$ {dz_{1} \\over dt} = 2xy_{1} - 4\\beta z_{1}$$"
   ]
  },
  {
   "cell_type": "code",
   "execution_count": null,
   "id": "0bf08b31",
   "metadata": {},
   "outputs": [],
   "source": []
  }
 ],
 "metadata": {
  "colab": {
   "provenance": []
  },
  "kernelspec": {
   "display_name": "Python 3 (ipykernel)",
   "language": "python",
   "name": "python3"
  },
  "language_info": {
   "codemirror_mode": {
    "name": "ipython",
    "version": 3
   },
   "file_extension": ".py",
   "mimetype": "text/x-python",
   "name": "python",
   "nbconvert_exporter": "python",
   "pygments_lexer": "ipython3",
   "version": "3.11.5"
  }
 },
 "nbformat": 4,
 "nbformat_minor": 5
}
