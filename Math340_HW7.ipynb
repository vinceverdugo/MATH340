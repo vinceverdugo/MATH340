{
 "cells": [
  {
   "cell_type": "markdown",
   "id": "ab3a79e5-4f2e-4e91-bef4-3ed87ab1ce2a",
   "metadata": {
    "id": "ab3a79e5-4f2e-4e91-bef4-3ed87ab1ce2a"
   },
   "source": [
    "<center>\n",
    "<div class=\"alert alert-block alert-info\">\n",
    "    <h1> </h1>\n",
    "    <h1><font size=\"+3\"> <b> Math340 HW7 </b> </font></h1>\n",
    "    <h1><font size=\"+3\"> <b> Programming in Mathematics </b> </font></h1>\n",
    "    <h1><font size=\"+3\"> <b> Due November 1, 2024 </b> </font></h1>\n",
    "    \n",
    "</div>\n",
    "</center>\n",
    "\n",
    "<br>\n",
    "\n",
    "\n",
    "\n",
    "<center>\n",
    "<font size=\"+2\">\n",
    "Department of Mathematics and Statistics <br> <br>\n",
    "San Diego State University <br> <br>\n",
    "Fall 2024\n",
    "</font>\n",
    "</center>\n",
    "\n",
    "\n",
    "\n",
    "\n",
    "\n",
    "\n"
   ]
  },
  {
   "cell_type": "markdown",
   "id": "d1d7dfac",
   "metadata": {
    "id": "d1d7dfac"
   },
   "source": [
    "## Your Name: Vince Verdugo\n",
    "\n",
    "## Your ID: 826107601"
   ]
  },
  {
   "cell_type": "markdown",
   "id": "ac00d7e8-7894-471c-b22c-534f7bb771c5",
   "metadata": {
    "id": "ac00d7e8-7894-471c-b22c-534f7bb771c5"
   },
   "source": [
    "## 1. Summary"
   ]
  },
  {
   "cell_type": "markdown",
   "id": "e5e767c2-73b8-4c0e-97e4-4e44b568eba4",
   "metadata": {
    "id": "e5e767c2-73b8-4c0e-97e4-4e44b568eba4"
   },
   "source": [
    "Question 1: I modified the code we were given to find the largest Fibonacci number that can be represented by a 64 bit integer. To find the value of $m$ such that $ \\lambda^m < Fib_{max} < \\lambda^{m+1}$, I referenced the lecture notes that declared $ \\lambda \\approx 1.618 $. Using this, I applied $log_\\lambda$ to all parts of the inequality to find the value of $log_\\lambda(Fib_{max})$. I then found $m$ by using the floor of the value $log_\\lambda(Fib_{max})$.\n",
    "\n",
    "Question 2: I implemented the code we were given to identify the largest prime number that could be found within a 20 second time frame. I then repeated this four additional times. I then modified the code to pass through a variable time limit so that I could test the code for different time intervals. I then called the new function for the intervals 120 seconds, 300 seconds, and 600 seconds. \n",
    "\n",
    "Question 3: Using the code we were given and lecture notes, I found the numerical values for $\\hat{q}$, applied the chain rule to determine the mathematical expression and numerical value of $\\frac{\\partial L}{\\partial w_1}$, and updated the value of $w_1$."
   ]
  },
  {
   "cell_type": "markdown",
   "id": "c2d32951-96b7-4688-a721-8c2468b075e5",
   "metadata": {
    "id": "c2d32951-96b7-4688-a721-8c2468b075e5"
   },
   "source": [
    "## 2. Methodology"
   ]
  },
  {
   "cell_type": "markdown",
   "id": "06e8a2a7",
   "metadata": {
    "id": "06e8a2a7"
   },
   "source": [
    "For question 1, inside the while loop I used the <code>[-int]</code> notation to access the last two elements in the list when computing the Fibonacci numbers. When calculating the value of $m$ for the inequality $ \\lambda^m < Fib_{max} < \\lambda^{m+1} $, I used the <code>math.log</code> to take the log of $Fib_{max}$ with base $\\lambda$. I used the <code>np.floor</code> function to determine the value of $m$. To verify our results, I created an <code>if-else</code> statement with a nested <code>if</code> that would check to see if both sides of the inequality were satisfied before printing out our results. I also used markdown to explain steps using LaTeX.\n",
    "\n",
    "For question 2, I used a <code>for</code> loop to perform multiple tests of the test different times of the <code>find_largest_prime()</code> function. I also created a list of minutes in seconds, and used a <code>for</code> loop to test the modified version of the function <code>find_largest_prime()</code> with the time variable being passed through. \n",
    "\n",
    "For question 3, parts (a) and (b), I used markdown to write in LaTeX. Besides that I mostly used the code that was provided to us. "
   ]
  },
  {
   "cell_type": "markdown",
   "id": "6241913d-4853-4c7d-b624-709b27e427e5",
   "metadata": {
    "id": "6241913d-4853-4c7d-b624-709b27e427e5"
   },
   "source": [
    "## 3. Code and Results (e.g., Tables, Figures, Outputs)"
   ]
  },
  {
   "cell_type": "markdown",
   "id": "875c1e32",
   "metadata": {
    "id": "875c1e32"
   },
   "source": [
    "### Results for Question 1"
   ]
  },
  {
   "cell_type": "markdown",
   "id": "e2254ebf",
   "metadata": {},
   "source": [
    "#### 1a"
   ]
  },
  {
   "cell_type": "code",
   "execution_count": 4,
   "id": "dcec4527",
   "metadata": {},
   "outputs": [
    {
     "name": "stdout",
     "output_type": "stream",
     "text": [
      "Largest Fibonnaci number that can be represented by a 64 bit integer (Fib_max): 7540113804746346429\n"
     ]
    }
   ],
   "source": [
    "#Given code for question 1\n",
    "import numpy as np\n",
    "\n",
    "#Find largest 64 bit int\n",
    "i64_max = np.iinfo(np.int64).max\n",
    "\n",
    "#Define Fibonnaci sequence as list\n",
    "#f_0 = 0, f_1 = 1\n",
    "fib = [0,1]\n",
    "\n",
    "#Check that next Fibonacci is less that i64_max\n",
    "while (fib[-1] + fib[-2] <= i64_max):\n",
    "    #Calculate Fibonacci number and append to sequence\n",
    "    fib_m = fib[-1] + fib[-2]\n",
    "    fib.append(fib_m)\n",
    "    \n",
    "#Define fib_max and corresponding m value\n",
    "fib_max = fib[-1]\n",
    "print(\"Largest Fibonnaci number that can be represented by a 64 bit integer (Fib_max):\", fib_max)"
   ]
  },
  {
   "cell_type": "markdown",
   "id": "4beb98c3",
   "metadata": {},
   "source": [
    "#### 1b"
   ]
  },
  {
   "cell_type": "markdown",
   "id": "ec473250",
   "metadata": {},
   "source": [
    "Find $m$ such that \n",
    "$$ \\lambda^m < Fib_{max} < \\lambda^{m+1} $$\n",
    "\n",
    "Recall from lecture notes: $$ \\lambda \\approx 1.618 $$\n",
    "- Also can derive this with the ratio $\\frac{p_{n+1}}{p_n}$"
   ]
  },
  {
   "cell_type": "code",
   "execution_count": 5,
   "id": "bc3d78b0",
   "metadata": {},
   "outputs": [
    {
     "name": "stdout",
     "output_type": "stream",
     "text": [
      "1.618\n"
     ]
    }
   ],
   "source": [
    "print(f'{fib[-1]/fib[-2]:.3f}')"
   ]
  },
  {
   "cell_type": "markdown",
   "id": "b3024bcc",
   "metadata": {},
   "source": [
    "As we can see, the two values are the same when rounded to 3 decimal places. For ease we will declare a float object <code>l = 1.618</code> for $\\lambda$\n",
    "\n",
    "\n",
    "Thus to find $m$\n",
    "$$ log_{\\lambda}\\lambda^m < log_{\\lambda}(Fib_{max}) < log_{\\lambda}\\lambda^{m+1} $$\n",
    "\n",
    "$$ m < log_{\\lambda}(Fib_{max}) < m+1 $$"
   ]
  },
  {
   "cell_type": "code",
   "execution_count": 6,
   "id": "66e7cd9b",
   "metadata": {},
   "outputs": [
    {
     "name": "stdout",
     "output_type": "stream",
     "text": [
      "Value of m to satisfy the inequality: 90\n",
      "6427862156225010688 < 7540113804746346429 < 10400280968772067328\n"
     ]
    }
   ],
   "source": [
    "import math\n",
    "\n",
    "#Referencing lecture notes, lambda_+ is approx 1.618\n",
    "l = 1.618\n",
    "#Calculate log_lambda(Fib_max)\n",
    "log_fib_max = math.log(fib_max, l)\n",
    "#Find value of m by taking floor of log_lambda(Fib_max)\n",
    "m = np.floor(log_fib_max)\n",
    "\n",
    "#Verify results\n",
    "if (int(l**m) < fib_max):\n",
    "    if (fib_max < int(l**(m+1))):\n",
    "        print('Value of m to satisfy the inequality:', int(m))\n",
    "        print(f'{int(l**m)} < {fib_max} < {int(l**(m+1))}')\n",
    "else:\n",
    "    print('Incorrect solution')"
   ]
  },
  {
   "cell_type": "markdown",
   "id": "a08c5884",
   "metadata": {
    "id": "a08c5884"
   },
   "source": [
    "### Results for Question 2"
   ]
  },
  {
   "cell_type": "markdown",
   "id": "bb255d57",
   "metadata": {},
   "source": [
    "#### 2a"
   ]
  },
  {
   "cell_type": "code",
   "execution_count": 4,
   "id": "2a920ca3",
   "metadata": {
    "scrolled": true
   },
   "outputs": [
    {
     "name": "stdout",
     "output_type": "stream",
     "text": [
      "CPU Specs:  i386\n",
      "Operating System:  Darwin 22.6.0\n",
      "Time's up! The largest prime found within the time limit:  5225699\n"
     ]
    }
   ],
   "source": [
    "#Given code for question 2\n",
    "import signal\n",
    "import time\n",
    "import platform\n",
    "\n",
    "#Function to check if a is prime\n",
    "def is_prime(num):\n",
    "    if num <= 1:\n",
    "        return False\n",
    "    if num == 2:\n",
    "        return True\n",
    "    if num % 2 == 0:\n",
    "        return False\n",
    "    for i in range(3, int(num**0.5)+1, 2):\n",
    "        if num % i == 0:\n",
    "            return False\n",
    "    return True\n",
    "\n",
    "def find_largest_prime():\n",
    "    largest_prime = 2\n",
    "    num = 3\n",
    "    \n",
    "    def alarm_handler(signum, frame):\n",
    "        raise TimeoutError(\"Time's up!\")\n",
    "\n",
    "    signal.signal(signal.SIGALRM, alarm_handler)\n",
    "    signal.alarm(20)\n",
    "    \n",
    "    try:\n",
    "        while True:\n",
    "            if is_prime(num):\n",
    "                largest_prime = num\n",
    "            num += 2\n",
    "    except TimeoutError:\n",
    "        print(\"Time's up! The largest prime found within the time limit: \", largest_prime)\n",
    "        signal.alarm(0)\n",
    "        \n",
    "if __name__ == \"__main__\":\n",
    "    print(\"CPU Specs: \", platform.processor())\n",
    "    print(\"Operating System: \", platform.system(), platform.release())\n",
    "    find_largest_prime()"
   ]
  },
  {
   "cell_type": "markdown",
   "id": "89facf71",
   "metadata": {},
   "source": [
    "#### 2b"
   ]
  },
  {
   "cell_type": "code",
   "execution_count": 5,
   "id": "2d76d7dc",
   "metadata": {},
   "outputs": [
    {
     "name": "stdout",
     "output_type": "stream",
     "text": [
      "Time's up! The largest prime found within the time limit:  5181881\n",
      "Time's up! The largest prime found within the time limit:  5273419\n"
     ]
    },
    {
     "ename": "KeyboardInterrupt",
     "evalue": "",
     "output_type": "error",
     "traceback": [
      "\u001b[0;31m---------------------------------------------------------------------------\u001b[0m",
      "\u001b[0;31mKeyboardInterrupt\u001b[0m                         Traceback (most recent call last)",
      "Cell \u001b[0;32mIn[5], line 3\u001b[0m\n\u001b[1;32m      1\u001b[0m \u001b[38;5;66;03m#Repeat 4 times\u001b[39;00m\n\u001b[1;32m      2\u001b[0m \u001b[38;5;28;01mfor\u001b[39;00m i \u001b[38;5;129;01min\u001b[39;00m \u001b[38;5;28mrange\u001b[39m(\u001b[38;5;241m0\u001b[39m,\u001b[38;5;241m4\u001b[39m,\u001b[38;5;241m1\u001b[39m):\n\u001b[0;32m----> 3\u001b[0m     \u001b[43mfind_largest_prime\u001b[49m\u001b[43m(\u001b[49m\u001b[43m)\u001b[49m\n",
      "Cell \u001b[0;32mIn[4], line 31\u001b[0m, in \u001b[0;36mfind_largest_prime\u001b[0;34m()\u001b[0m\n\u001b[1;32m     29\u001b[0m \u001b[38;5;28;01mtry\u001b[39;00m:\n\u001b[1;32m     30\u001b[0m     \u001b[38;5;28;01mwhile\u001b[39;00m \u001b[38;5;28;01mTrue\u001b[39;00m:\n\u001b[0;32m---> 31\u001b[0m         \u001b[38;5;28;01mif\u001b[39;00m \u001b[43mis_prime\u001b[49m\u001b[43m(\u001b[49m\u001b[43mnum\u001b[49m\u001b[43m)\u001b[49m:\n\u001b[1;32m     32\u001b[0m             largest_prime \u001b[38;5;241m=\u001b[39m num\n\u001b[1;32m     33\u001b[0m         num \u001b[38;5;241m+\u001b[39m\u001b[38;5;241m=\u001b[39m \u001b[38;5;241m2\u001b[39m\n",
      "Cell \u001b[0;32mIn[4], line 15\u001b[0m, in \u001b[0;36mis_prime\u001b[0;34m(num)\u001b[0m\n\u001b[1;32m     13\u001b[0m     \u001b[38;5;28;01mreturn\u001b[39;00m \u001b[38;5;28;01mFalse\u001b[39;00m\n\u001b[1;32m     14\u001b[0m \u001b[38;5;28;01mfor\u001b[39;00m i \u001b[38;5;129;01min\u001b[39;00m \u001b[38;5;28mrange\u001b[39m(\u001b[38;5;241m3\u001b[39m, \u001b[38;5;28mint\u001b[39m(num\u001b[38;5;241m*\u001b[39m\u001b[38;5;241m*\u001b[39m\u001b[38;5;241m0.5\u001b[39m)\u001b[38;5;241m+\u001b[39m\u001b[38;5;241m1\u001b[39m, \u001b[38;5;241m2\u001b[39m):\n\u001b[0;32m---> 15\u001b[0m     \u001b[38;5;28;01mif\u001b[39;00m num \u001b[38;5;241m%\u001b[39m i \u001b[38;5;241m==\u001b[39m \u001b[38;5;241m0\u001b[39m:\n\u001b[1;32m     16\u001b[0m         \u001b[38;5;28;01mreturn\u001b[39;00m \u001b[38;5;28;01mFalse\u001b[39;00m\n\u001b[1;32m     17\u001b[0m \u001b[38;5;28;01mreturn\u001b[39;00m \u001b[38;5;28;01mTrue\u001b[39;00m\n",
      "\u001b[0;31mKeyboardInterrupt\u001b[0m: "
     ]
    }
   ],
   "source": [
    "#Repeat 4 times\n",
    "for i in range(0,4,1):\n",
    "    find_largest_prime()"
   ]
  },
  {
   "cell_type": "markdown",
   "id": "fa1d6419",
   "metadata": {},
   "source": [
    "#### 2c"
   ]
  },
  {
   "cell_type": "code",
   "execution_count": null,
   "id": "5de6ee3a",
   "metadata": {},
   "outputs": [],
   "source": [
    "#Redefine largest prime to pass through time variable\n",
    "def find_largest_prime(time):\n",
    "    largest_prime = 2\n",
    "    num = 3\n",
    "    \n",
    "    def alarm_handler(signum, frame):\n",
    "        raise TimeoutError(\"Time's up!\")\n",
    "\n",
    "    signal.signal(signal.SIGALRM, alarm_handler)\n",
    "    signal.alarm(time)\n",
    "    \n",
    "    try:\n",
    "        while True:\n",
    "            if is_prime(num):\n",
    "                largest_prime = num\n",
    "            num += 2\n",
    "    except TimeoutError:\n",
    "        print(\"Time's up! The largest prime found within the time limit: \", largest_prime)\n",
    "        signal.alarm(0)"
   ]
  },
  {
   "cell_type": "code",
   "execution_count": null,
   "id": "12d8a2e4",
   "metadata": {},
   "outputs": [],
   "source": [
    "#Create array of test times\n",
    "#Choose to test 2 mins, 5 mins, 10 mins\n",
    "times = [120, 300, 600]\n",
    "\n",
    "#Test\n",
    "for i in times:\n",
    "    find_largest_prime(i)"
   ]
  },
  {
   "cell_type": "markdown",
   "id": "7d605a4c",
   "metadata": {
    "id": "7d605a4c"
   },
   "source": [
    "### Results for Question 3"
   ]
  },
  {
   "cell_type": "markdown",
   "id": "3f22e3b8",
   "metadata": {},
   "source": [
    "#### 3a\n",
    "Assuming\n",
    "\n",
    "\\begin{equation}\n",
    "x = w_1u + w_2v + b_1 \\\\\n",
    "a = x \\\\\n",
    "z = w_3a + b_2 \\\\ \n",
    "\\hat{q} = z \\\\\n",
    "\\end{equation}\n",
    "\n",
    "then\n",
    "\\begin{equation}\n",
    "\\hat{q} = w_3a + b_2 \\\\\n",
    "\\hat{q} = w_3(w_1u + w_2v + b_1) + b2\n",
    "\\end{equation}"
   ]
  },
  {
   "cell_type": "code",
   "execution_count": 7,
   "id": "e9a18bdd",
   "metadata": {
    "id": "e9a18bdd"
   },
   "outputs": [
    {
     "name": "stdout",
     "output_type": "stream",
     "text": [
      "Numerical value of q_hat = 0.431\n"
     ]
    }
   ],
   "source": [
    "#Given code for question 3\n",
    "#Python implementation of backpropagation for a simple neural network\n",
    "#Initial values\n",
    "u = 0.5\n",
    "v = 0.1\n",
    "w1 = 0.4\n",
    "w2 = 0.3\n",
    "w3 = 0.7\n",
    "b1 = 0.1\n",
    "b2 = 0.2\n",
    "target_q = 1\n",
    "learning_rate = 0.1\n",
    "\n",
    "#Step 1: Feedforward\n",
    "#Hidden layer calculation\n",
    "x = (u*w1) + (v*w2) + b1\n",
    "#Identity activation function for the hidden layer\n",
    "a = x\n",
    "#Output layer calculation\n",
    "z = (a*w3) + b2\n",
    "#Identity activation function for the output layer\n",
    "predicted_q = z\n",
    "print('Numerical value of q_hat =', predicted_q)"
   ]
  },
  {
   "cell_type": "markdown",
   "id": "14871c16",
   "metadata": {},
   "source": [
    "#### 3b\n",
    "As discussed in lecture, the applying the chain rule to $\\frac{\\partial L}{\\partial w_1} = \\frac{\\partial L}{\\partial \\hat{q}}\\frac{\\partial \\hat{q}}{\\partial z}\\frac{\\partial z}{\\partial a}\\frac{\\partial a}{\\partial x}\\frac{\\partial x}{\\partial w_1}$"
   ]
  },
  {
   "cell_type": "markdown",
   "id": "9fbca1c6",
   "metadata": {},
   "source": [
    "$$\\frac{\\partial L}{\\partial \\hat{q}} = \\frac{\\partial}{\\partial \\hat{q}}\\left(\\frac{(q-\\hat{q})^2}{2}\\right) = -(q-\\hat{q})$$\n",
    "\n",
    "$$\\frac{\\partial \\hat{q}}{\\partial z} = 1 $$\n",
    "\n",
    "$$\\frac{\\partial z}{\\partial a} = \\frac{\\partial}{\\partial a}\\left(w_3a + b2\\right) = w_3 $$\n",
    "\n",
    "$$\\frac{\\partial a}{\\partial x} = 1$$\n",
    "\n",
    "$$\\frac{\\partial x}{\\partial w_1} = \\frac{\\partial}{\\partial w_1}(w_1u + w_2v + b_1) = u$$"
   ]
  },
  {
   "cell_type": "markdown",
   "id": "db64698b",
   "metadata": {},
   "source": [
    "Thus\n",
    "$$\\frac{\\partial L}{\\partial w_1} = -(q-\\hat{q})*1*w_3*1*u$$\n",
    "\n",
    "$$\\frac{\\partial L}{\\partial w_1} = -w_3u(q-\\hat{q})$$"
   ]
  },
  {
   "cell_type": "markdown",
   "id": "d39e2946",
   "metadata": {},
   "source": [
    "#### 3c"
   ]
  },
  {
   "cell_type": "code",
   "execution_count": 8,
   "id": "7f7b17a5",
   "metadata": {},
   "outputs": [
    {
     "name": "stdout",
     "output_type": "stream",
     "text": [
      "Numerical value of dL/dw_1 = -0.19914999999999997\n"
     ]
    }
   ],
   "source": [
    "#Determine numerical value in above calculation\n",
    "dL_dw1 = -w3*u*(target_q - predicted_q)\n",
    "print('Numerical value of dL/dw_1 =', dL_dw1)"
   ]
  },
  {
   "cell_type": "markdown",
   "id": "26427873",
   "metadata": {},
   "source": [
    "#### 3d"
   ]
  },
  {
   "cell_type": "code",
   "execution_count": 9,
   "id": "7f7b7200",
   "metadata": {
    "id": "7f7b7200"
   },
   "outputs": [
    {
     "name": "stdout",
     "output_type": "stream",
     "text": [
      "Updated w1: 0.41991500000000004\n"
     ]
    }
   ],
   "source": [
    "#Update w1\n",
    "w1 = w1-learning_rate*dL_dw1\n",
    "print(f\"Updated w1: {w1}\")"
   ]
  },
  {
   "cell_type": "markdown",
   "id": "d878b65c",
   "metadata": {},
   "source": [
    "#### 3e"
   ]
  },
  {
   "cell_type": "code",
   "execution_count": 10,
   "id": "b90de223",
   "metadata": {},
   "outputs": [
    {
     "name": "stdout",
     "output_type": "stream",
     "text": [
      "Numerical value of q_hat = 0.431\n",
      "Initial Loss: 0.16188049999999998\n",
      "Updated w1: 0.380085\n"
     ]
    }
   ],
   "source": [
    "#Complete code for above calculations\n",
    "u = 0.5\n",
    "v = 0.1\n",
    "w1 = 0.4\n",
    "w2 = 0.3\n",
    "w3 = 0.7\n",
    "b1 = 0.1\n",
    "b2 = 0.2\n",
    "target_q = 1\n",
    "learning_rate = 0.1\n",
    "\n",
    "#Step 1: Feedforward\n",
    "#Hidden layer calculation\n",
    "x = (u*w1) + (v*w2) + b1\n",
    "#Identity activation function for the hidden layer\n",
    "a = x\n",
    "#Output layer calculation\n",
    "z = (a*w3) + b2\n",
    "#Identity activation function for the output layer\n",
    "predicted_q = z\n",
    "print('Numerical value of q_hat =', predicted_q)\n",
    "\n",
    "#Step 2: Loss Calculation\n",
    "#Mean Squared Error (MSE) Loss\n",
    "L = 0.5*(target_q - predicted_q)**2\n",
    "print(f\"Initial Loss: {L}\")\n",
    "\n",
    "#Step 3: Backpropagation\n",
    "#Gradient of the loss with respect to output\n",
    "dL_dq_hat = predicted_q - target_q\n",
    "#Gradient with respect to z (since q_hat = z)\n",
    "dL_dz = dL_dq_hat\n",
    "#Gradient with respect to w1\n",
    "dL_dw1 = -(predicted_q - target_q)*w3*u\n",
    "\n",
    "#Step 4: Weight Update\n",
    "w1 = w1-learning_rate*dL_dw1\n",
    "print(f\"Updated w1: {w1}\")"
   ]
  }
 ],
 "metadata": {
  "colab": {
   "provenance": []
  },
  "kernelspec": {
   "display_name": "Python 3 (ipykernel)",
   "language": "python",
   "name": "python3"
  },
  "language_info": {
   "codemirror_mode": {
    "name": "ipython",
    "version": 3
   },
   "file_extension": ".py",
   "mimetype": "text/x-python",
   "name": "python",
   "nbconvert_exporter": "python",
   "pygments_lexer": "ipython3",
   "version": "3.12.1"
  }
 },
 "nbformat": 4,
 "nbformat_minor": 5
}
