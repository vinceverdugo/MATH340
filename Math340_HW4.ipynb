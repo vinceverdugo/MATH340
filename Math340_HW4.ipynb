{
 "cells": [
  {
   "cell_type": "markdown",
   "id": "ab3a79e5-4f2e-4e91-bef4-3ed87ab1ce2a",
   "metadata": {
    "id": "ab3a79e5-4f2e-4e91-bef4-3ed87ab1ce2a"
   },
   "source": [
    "<center>\n",
    "<div class=\"alert alert-block alert-info\">\n",
    "    <h1> </h1>\n",
    "    <h1><font size=\"+3\"> <b> Math340 HW4 </b> </font></h1>\n",
    "    <h1><font size=\"+3\"> <b> Programming in Mathematics </b> </font></h1>\n",
    "    <h1><font size=\"+3\"> <b> Due October 4, 2024 </b> </font></h1>\n",
    "    \n",
    "</div>\n",
    "</center>\n",
    "\n",
    "<br>\n",
    "\n",
    "<center>\n",
    "<font size=\"+2\">\n",
    "Department of Mathematics and Statistics <br> <br>\n",
    "San Diego State University <br> <br>\n",
    "Fall 2024\n",
    "</font>\n",
    "</center>"
   ]
  },
  {
   "cell_type": "markdown",
   "id": "d1d7dfac",
   "metadata": {
    "id": "d1d7dfac"
   },
   "source": [
    "## Your Name: Vince Verdugo\n",
    "\n",
    "## Your ID: 826107601"
   ]
  },
  {
   "cell_type": "markdown",
   "id": "ac00d7e8-7894-471c-b22c-534f7bb771c5",
   "metadata": {
    "id": "ac00d7e8-7894-471c-b22c-534f7bb771c5"
   },
   "source": [
    "## 1. Summary"
   ]
  },
  {
   "cell_type": "markdown",
   "id": "e5e767c2-73b8-4c0e-97e4-4e44b568eba4",
   "metadata": {
    "id": "e5e767c2-73b8-4c0e-97e4-4e44b568eba4"
   },
   "source": [
    "Question 1: I created a list to represent all the RGB codes. I then imported the magnitude function we defined in lab. Initialized three more lists, one to store the values of the cosine similarities for each color, one to during for loops to acccess previous list, and one last one to define the 7x7 matrix. I then iterated through using two for loops and calculated the cosine similarities for each color. I then plotted the matrix.\n",
    "\n",
    "Question 2: I discussed the ideas of rounding and truncation and how it related to the computation of the cosine similarities in question (1b).\n",
    "\n",
    "Question 3: I modified and expanded the given code to find the frequency of the term \"butterfly effect\" within the Wikipedia article. I modified the for loop and used two new functions to compare the strings to find the term \"butterfly effect\""
   ]
  },
  {
   "cell_type": "markdown",
   "id": "c2d32951-96b7-4688-a721-8c2468b075e5",
   "metadata": {
    "id": "c2d32951-96b7-4688-a721-8c2468b075e5"
   },
   "source": [
    "## 2. Methodology"
   ]
  },
  {
   "cell_type": "markdown",
   "id": "06e8a2a7",
   "metadata": {
    "id": "06e8a2a7"
   },
   "source": [
    "For question 1, I used different sized lists that ultimately represented matrices. I used the built in <code>round</code> function and numpy functions such as <code>np.sqrt</code>, <code>np.dot</code> as well as a function <code>mag</code> that we defined in lab. I also used two for loops to compute and store my cosine similarity values. For plotting I used matplotlib.pyplot functions like <code>plt.imshow</code>, <code>plt.show</code>, <code>plt.colorbar</code>, <code>plt.xticks</code>, and <code>plt.yticks</code>,\n",
    "\n",
    "For question 2, I used print statements to compare two values when rounded to three decimal places and unrounded. The rest of my code I typed in markdown. \n",
    "\n",
    "For question 3, because some of the strings that contained 'butterfly' and 'effect' contained extra characters like '\"', ')', '.[__]' or ended with an 's', I used <code>endswith()</code>, <code>startswith()</code>, and <code>lower()</code> functions when evaluating the if statments to ignore those extra characters. "
   ]
  },
  {
   "cell_type": "markdown",
   "id": "6241913d-4853-4c7d-b624-709b27e427e5",
   "metadata": {
    "id": "6241913d-4853-4c7d-b624-709b27e427e5"
   },
   "source": [
    "## 3. Code and Results (e.g., Tables, Figures, Outputs)"
   ]
  },
  {
   "cell_type": "markdown",
   "id": "875c1e32",
   "metadata": {
    "id": "875c1e32"
   },
   "source": [
    "### Results for Question 1 (within a Markdown cell)"
   ]
  },
  {
   "cell_type": "markdown",
   "id": "aa61abce",
   "metadata": {},
   "source": [
    "#### 1a"
   ]
  },
  {
   "cell_type": "code",
   "execution_count": 1,
   "id": "016a391a",
   "metadata": {},
   "outputs": [],
   "source": [
    "#Create list of RGB codes for ROYGBIV colors\n",
    "#RGB codes are lists\n",
    "RGB = [[255,0,0],[255,165,0], [255,255,0],[0,128,0],\n",
    "      [0,0,255],[75,0,130],[128,0,128]]"
   ]
  },
  {
   "cell_type": "markdown",
   "id": "b28ebc08",
   "metadata": {},
   "source": [
    "#### 1b, 1c"
   ]
  },
  {
   "cell_type": "code",
   "execution_count": 2,
   "id": "55f28ea9",
   "metadata": {},
   "outputs": [],
   "source": [
    "#Import magnitude function we used defined in lab\n",
    "import numpy as np\n",
    "def mag(A):\n",
    "    sum = 0\n",
    "    for i in range(len(A)):\n",
    "        sum += (A[i])**2\n",
    "    return np.sqrt(sum)"
   ]
  },
  {
   "cell_type": "code",
   "execution_count": 3,
   "id": "590ae9f7",
   "metadata": {},
   "outputs": [],
   "source": [
    "#Initialize 7 arrays for each color that will act as rows in 7x7 matrix\n",
    "Rcs, Ocs, Ycs, Gcs, Bcs, Ics, Vcs = [],[],[],[],[],[],[]\n",
    "#Create list containing previous lists to use in loop\n",
    "csList = [Rcs,Ocs,Ycs,Gcs,Bcs,Ics,Vcs]\n",
    "#Matrix to store all cosine similarity lists, will become 7x7\n",
    "csMatrix = []\n",
    "\n",
    "#Two for loops\n",
    "for i in range(0,7):\n",
    "    for j in range(0,7):\n",
    "        #Compute cs value for each color pair\n",
    "        val = round(np.dot(RGB[i],RGB[j])/(mag(RGB[i])*mag(RGB[j])), 3)\n",
    "        #Append to base color\n",
    "        csList[i].append(val)\n",
    "    #Append to matrix\n",
    "    csMatrix.append(csList[i])"
   ]
  },
  {
   "cell_type": "code",
   "execution_count": 4,
   "id": "f6ea1b90",
   "metadata": {},
   "outputs": [
    {
     "data": {
      "image/png": "[encoded data removed]",
      "text/plain": [
       "<Figure size 640x480 with 2 Axes>"
      ]
     },
     "metadata": {},
     "output_type": "display_data"
    }
   ],
   "source": [
    "import matplotlib.pyplot as plt\n",
    "#Create list of color names for tick labels\n",
    "labels = ['Red', 'Orange', 'Yellow', 'Green', 'Blue', 'Indigo', 'Violet']\n",
    "\n",
    "#Plot csMatrix\n",
    "plt.imshow(csMatrix)\n",
    "plt.colorbar(ticks=Ics) #All 7 distinct values can be seen on bar\n",
    "plt.xticks(ticks=range(len(labels)), labels=labels, size=8)\n",
    "plt.yticks(ticks=range(len(labels)), labels=labels, size=8)\n",
    "plt.show()"
   ]
  },
  {
   "cell_type": "markdown",
   "id": "a08c5884",
   "metadata": {
    "id": "a08c5884"
   },
   "source": [
    "### Results for Question 2 (within a Markdown cell)"
   ]
  },
  {
   "cell_type": "markdown",
   "id": "80e667fd",
   "metadata": {
    "id": "db376cb8"
   },
   "source": [
    "One thing I noticed that was very important to question 1, was rounding our cosine similarity values to 3 decimal places. When I was doing intial tests to make sure my code was properly executing, I saw that when computing the cosine similarity, there were floating point values that were inaccurate to each other at 16 decimal places\n",
    "\n",
    "For example:"
   ]
  },
  {
   "cell_type": "code",
   "execution_count": 5,
   "id": "40333958",
   "metadata": {},
   "outputs": [
    {
     "name": "stdout",
     "output_type": "stream",
     "text": [
      "0.5 0.5\n"
     ]
    }
   ],
   "source": [
    "val1 = round(np.dot(RGB[0],RGB[5])/(mag(RGB[0])*mag(RGB[5])), 3)\n",
    "val2 = round(np.dot(RGB[2],RGB[6])/(mag(RGB[2])*mag(RGB[6])), 3)\n",
    "\n",
    "print(val1,val2)"
   ]
  },
  {
   "cell_type": "code",
   "execution_count": 6,
   "id": "8fd14e21",
   "metadata": {},
   "outputs": [
    {
     "name": "stdout",
     "output_type": "stream",
     "text": [
      "0.4997224534895772 0.49999999999999994\n"
     ]
    }
   ],
   "source": [
    "val1 = np.dot(RGB[0],RGB[5])/(mag(RGB[0])*mag(RGB[5]))\n",
    "val2 = np.dot(RGB[2],RGB[6])/(mag(RGB[2])*mag(RGB[6]))\n",
    "\n",
    "print(val1,val2)"
   ]
  },
  {
   "cell_type": "markdown",
   "id": "639be75b",
   "metadata": {},
   "source": [
    "We can see that when rounding <code>val1</code> and <code>val2</code> to 3 decimal places, we get the same value of 0.5. However, without rounding, we see that we have a difference of 0.0002775465104227215, and a relative error of 0.0005550930208454431"
   ]
  },
  {
   "cell_type": "markdown",
   "id": "91447643",
   "metadata": {},
   "source": [
    "Additionally, if we were to have truncated <code>val1</code> and <code>val2</code> at 4 decimal places, we would have 0.4997 and 0.4999 which are clearly not the same. "
   ]
  },
  {
   "cell_type": "markdown",
   "id": "7d605a4c",
   "metadata": {
    "id": "7d605a4c"
   },
   "source": [
    "### Results for Question 3 (within a Markdown cell)"
   ]
  },
  {
   "cell_type": "code",
   "execution_count": 7,
   "id": "e9a18bdd",
   "metadata": {
    "id": "e9a18bdd",
    "scrolled": false
   },
   "outputs": [
    {
     "name": "stdout",
     "output_type": "stream",
     "text": [
      "Frequency of the term \"butterfly effect\": 26\n"
     ]
    }
   ],
   "source": [
    "import requests\n",
    "from bs4 import BeautifulSoup\n",
    "import re\n",
    "\n",
    "# Wikipedia URL for the \"Chaos Theory\" page\n",
    "url = \"https://en.wikipedia.org/wiki/Chaos_theory\"\n",
    "\n",
    "# Send a GET request to fetch the content of the page\n",
    "response = requests.get(url)\n",
    "\n",
    "if response.status_code == 200:\n",
    "    # Parse the HTML content of the page\n",
    "    soup = BeautifulSoup(response.text, 'html.parser')\n",
    "\n",
    "    # Find the main content of the page\n",
    "    content = soup.find(id='mw-content-text')\n",
    "\n",
    "    # Extract text from the content\n",
    "    text = content.get_text()\n",
    "\n",
    "    # Split text into words\n",
    "    words = text.split()\n",
    "\n",
    "    # Output each word with a blank separator\n",
    "    #print(\"\\nWords with blank separator:\")\n",
    "    freq=0\n",
    "    flag=0\n",
    "    #Change syntax of loop so that I can access index of list words\n",
    "    for i in range(len(words)-1):\n",
    "        #Check if current word is butterfly, if so check if next word is effect\n",
    "        #Use endswith() function because some instances of butterfly start with '\"'\n",
    "        if (words[i].lower().endswith('butterfly')):\n",
    "            #Use startswith() function because some instances of effect end with '\"', ')', \".[__]\", etc.\n",
    "            if(words[i+1].lower().startswith('effect')):\n",
    "                freq += 1\n",
    "\n",
    "        #print(words[i], end=\" \")\n",
    "        # after printing word, the print() function won't automatically end with a newline character (\"\\n\").\n",
    "        # Instead, it will end with a space (\" \")\n",
    "else:\n",
    "    print(\"Failed to fetch the Wikipedia page.\")\n",
    "    \n",
    "print('Frequency of the term \"butterfly effect\":', freq)"
   ]
  }
 ],
 "metadata": {
  "colab": {
   "provenance": []
  },
  "kernelspec": {
   "display_name": "Python 3 (ipykernel)",
   "language": "python",
   "name": "python3"
  },
  "language_info": {
   "codemirror_mode": {
    "name": "ipython",
    "version": 3
   },
   "file_extension": ".py",
   "mimetype": "text/x-python",
   "name": "python",
   "nbconvert_exporter": "python",
   "pygments_lexer": "ipython3",
   "version": "3.11.5"
  }
 },
 "nbformat": 4,
 "nbformat_minor": 5
}
