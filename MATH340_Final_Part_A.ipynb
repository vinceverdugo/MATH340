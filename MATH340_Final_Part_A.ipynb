{
 "cells": [
  {
   "cell_type": "markdown",
   "id": "bda3f7fc-6299-47e5-9f03-0d4dd24eb222",
   "metadata": {},
   "source": [
    "# Examining Characteristics of the Logistic Equation Using Python"
   ]
  },
  {
   "cell_type": "markdown",
   "id": "560b98d0-dc73-4187-85c7-2682c5f77b31",
   "metadata": {},
   "source": [
    "## 1. Introduction\n",
    "As seen in *The Fundamental Dynamics Formula*, the simplest first order linear ordinary differential equation (ODE) can be given by \n",
    "$$ \\frac{dP}{dt} = kP  \\tag{1.1}$$\n",
    "where our solution is the function $P(t) = P_0e^{kt}$. This equation is often used to model population growth. As it is exponential, the model in question will either decay when $k < 0$ or grow e Pponentially when $k > 0$. \n",
    "\n",
    "However most models will not grow or decay exponentially, and thus have a carrying capacity, $M$. Under the assumptions that:\n",
    "\n",
    "- $\\frac{dP}{dt} \\approx kP $ if $P$ is small\n",
    " \n",
    "- $\\frac{dP}{dt} < 0 $ if $P > M$\n",
    "\n",
    "  \n",
    "The equation that incorporates these assumptions is the Logistic Equation:\n",
    "$$ \\frac{dP}{dt} = kP(1 - P) \\tag{1.2}$$\n",
    "with our solution:\n",
    "$$ P(t) = \\frac{1}{1 + e^{-kt}}   \\tag{1.3}$$"
   ]
  },
  {
   "cell_type": "markdown",
   "id": "583761ce-47b1-4bd4-a0a7-b61dfd926c46",
   "metadata": {},
   "source": [
    "In *Simple Mathematical Models With Very Complicated Dynamics* by Robert May, this is how the Logistic ODE is defined as,\n",
    "Using Euler's Method, we can rewrite the Logistic Equation (1.2) as follows:\n",
    "$$  P_{n+1} =  aP_n(1- P_n) \\tag{1.4}$$\n",
    "May calls this equation \"the simplest nonlinear difference equation.\" While simple, May also explains how $P$ must remain on the domain (0,1). Outside of these bounds, the iterations diverege towards $-\\infty$. Furthermore, May requires that $1 < a < 4$. When this inequalty is false, the function begins to behave chaotically and, in the context of $P =$ population, the population becomes extinct. \n",
    "\n",
    "These findings are similar to those found by Edward N. Lorenz in *The Problem of Deducing the Climate from the Governing Equations*. To describe the behavior of $P$, Lorenz calculates the roots of Eq(1.7) and derives\n",
    "$$ P = 0, a-1, \\frac{a+1}{2}+\\sqrt{a+1}, \\frac{a+1}{2}-\\sqrt{a+1} \\tag{1.5}$$\n",
    "\n",
    "Lorenz states that all of these roots are real when $0 \\leq a \\leq 3$. However for $3 < a \\leq 4$, only the roots $P = 0, a-1$ are real. This leads to $P$ being unstable and in the context unstable climates.\n",
    "\n",
    "The behavior of this solution, described as the Logstic Map, is dependent of $a$. According to the Logistic Map Wikipedia, is as follows:\n",
    "\n",
    "- $0 < a < 1$: The population will eventually die regardless of $P_0$\n",
    "- $1 < a < 2$: The population will approach the value $\\frac{a-1}{a}$\n",
    "- $2 < a < 3$: The population will approach the value $\\frac{a-1}{a}$, but will fluctuate around this value\n",
    "- $3 < a < 3.44949$: The population will approach permanent oscillations between the values $\\frac{1}{2a}(a+1\\pm\\sqrt{(a-3)(a+1)})$\n",
    "- $3.44949 < a < 3.54409$: The population will approach permanent oscialltions between four values\n",
    "- $3.54409 < a $: The population will approach oscillations between 8, 16, 32,... values"
   ]
  },
  {
   "cell_type": "markdown",
   "id": "142e24f6-146c-4940-a2a7-6d96b8a86b25",
   "metadata": {},
   "source": [
    "The characteristics shown in *Simple Mathematical Models With Very Complicated Dynamics* by Robert May, *The Problem of Deducing the Climate from the Governing Equations* by Edward Lorenz, and Logistic Map Wikipedia connect to the coursework completed in Math340. In this report we will review the follwing concepts and how they are explored in the corresponding homework assignments. \n",
    "- The simplest ODE (HW 5)\n",
    "- Using Finite Difference Methods to solve ODEs (HW 9)\n",
    "- The simplest ODE and its connection to the Fibonacci Sequence (HW 9)\n",
    "- Solutions of the Logistic Equation using symbolic compuring (HW 10)\n",
    "- Numerical solutions of the Logistic Map (HW 10)\n",
    "- The Sigmoid function (HW 3)\n",
    "- The Softmax function (HW 5)"
   ]
  },
  {
   "cell_type": "markdown",
   "id": "628327b5-9f5c-47cb-af62-d78bcae1f0a7",
   "metadata": {},
   "source": [
    "## 2. Methodology\n",
    "\n"
   ]
  },
  {
   "cell_type": "markdown",
   "id": "fe484769-9d25-4d83-8a66-8729e4fe0f12",
   "metadata": {},
   "source": [
    "### 2.1 Solving Linear First Order Differential Equations\n",
    "The simple ODE given by Eq(1.1) can be solved using analytical and numerical approximation approaches. While there are many analytical methods of solving this differential equation, we will demonstrate how to solve it using seperation of variables. "
   ]
  },
  {
   "cell_type": "markdown",
   "id": "3789342d-abac-4c6c-bc7d-79515ee35afa",
   "metadata": {},
   "source": [
    "#### 2.1.1 Analytical Solution using Seperation of Variables\n",
    "Given Eq(1.10, begin by multiplying both sides by $\\frac{dt}{y}$ \n",
    "$$ \\frac{dP}{dt} \\cdot \\frac{dt}{P} = kP \\cdot \\frac{dt}{P}   \\tag{2.1}$$\n",
    "\n",
    "After simplifying:\n",
    "$$ \\frac {dP}{P} = k dt   \\tag{2.2}$$\n",
    "\n",
    "Integrate both sides:\n",
    "$$ \\int_{P_0}^{P}\\frac{dP}{P} = k\\int_{0}^{t}   \\tag{2.3}dt$$\n",
    "\n",
    "After integrating, the left hand side is:\n",
    "$$ ln(P) - ln(P_0) = ln\\left(\\frac{P}{P_0}\\right)   \\tag{2.4}$$\n",
    "and the right hand side is:\n",
    "$$k(t-0) = k t   \\tag{2.5}$$\n",
    "thus,\n",
    "$$ ln\\left(\\frac{P}{P_0}\\right) = k t   \\tag{2.6}$$\n",
    "\n",
    "Exponentiating both sides to cancel out $ln$ term:\n",
    "$$ e^{ln\\left(\\frac{P}{P_0}\\right)} = e^{k t}   \\tag{2.7}$$\n",
    "and simplifying gives us the analytical solution: \n",
    "\n",
    "$$ P(t) = P_0e^{k t}   \\tag{2.8} $$"
   ]
  },
  {
   "cell_type": "markdown",
   "id": "f9b2a433-dbec-4943-b8e3-490a6f75906c",
   "metadata": {},
   "source": [
    "#### 2.1.2 Finite Difference Schemes (Euler)\n",
    "To approximate numerical solutions to ODEs, we can use Finite Difference Methods. The Finite Difference Methods can be expressed using three different schemes\n",
    "- Forward Difference: $$ \\frac{f_{j+1} - f_j}{\\Delta t}   \\tag{2.9}$$\n",
    " \n",
    "- Backward Difference: $$ \\frac{f_j - f_{j-1}}{\\Delta t}   \\tag{2.10}$$\n",
    "\n",
    "- Centered Difference: $$ \\frac{f_{j+1} - f_{j-1}}{2 \\Delta t}   \\tag{2.11}$$\n",
    "\n",
    "The Forward Difference scheme shown above is also refererred to as Euler's Method, or Forward Euler's Method . We will use Euler's method to find the solution to the ODE in Eq(1.1)."
   ]
  },
  {
   "cell_type": "markdown",
   "id": "0c8fa729-0750-4715-a5bf-e3ff6685b925",
   "metadata": {},
   "source": [
    "Given Eq(1.1), we can rewrite using the Euler Method\n",
    "$$\\frac{P_{j+1} - P_j}{\\Delta t} = P   \\tag{2.12}$$\n",
    "Multiplying both sides by $\\Delta t$,\n",
    "$$P_{j+1} - P_j = \\Delta t P   \\tag{2.13}$$\n",
    "and isolating $P_{j+1}$,\n",
    "$$P_{j+1}  =  P_j + \\Delta t P   \\tag{2.14}$$\n",
    "To find the numerical solution to this equation, we can compute and plot our solutions using Python."
   ]
  },
  {
   "cell_type": "markdown",
   "id": "49c255e8-9ba5-4133-bf6f-b00f641abca4",
   "metadata": {},
   "source": [
    "#### 2.1.3 Fibonacci Sequence as a Solution to Linear ODE\n",
    "Additonally, we can use the Centered Difference Scheme to show the connection between Eq(1.1) and the Fibonacci Sequence \n",
    "$$Z_{n+1} = Z_n + Z_{n-1}   \\tag{2.15}$$\n",
    "\n",
    "Redefining Eq(1) as $ \\frac{dZ}{dt} = \\sigma Z $, \n",
    "$$\\frac{Z_{n+1}- Z_{n-1}}{2 \\Delta t} = \\sigma Z_n   \\tag{2.16}$$\n",
    "\n",
    "Isolating $Z_{n+1}$,\n",
    "$$ Z_{n+1} = Z_{n-1} + 2 \\sigma \\Delta t Z   \\tag{2.17}$$\n",
    "\n",
    "Thus for $ \\sigma = \\frac{1}{2 \\Delta t} $, we get the solution:\n",
    "\n",
    "$$ Z_{n+1} = Z_{n-1} + Z_n   \\tag{2.18}$$\n",
    "\n",
    "Which is our equation for the Fibonacci Sequences"
   ]
  },
  {
   "cell_type": "markdown",
   "id": "3dad3d38-bc21-4105-8aa0-18a8b5fa8aac",
   "metadata": {},
   "source": [
    "### 2.2 The Logistic Equation\n",
    "\n",
    "As we described above in Eq(1.2), the Logistic Equation is defined as:\n",
    "$$ \\frac{dP}{dt} = kP\\left(1 - \\frac{P}{M}\\right) $$\n",
    "Similar to Eq(1.1), this equation can be solved using both analytical and numerical methods. "
   ]
  },
  {
   "cell_type": "markdown",
   "id": "c53d98b7-3049-42be-8efe-db4e8f952565",
   "metadata": {},
   "source": [
    "#### 2.2.1 Solutions of the Logistic Equation Using Symbolic Computing\n",
    "Explored in HW10, the analytical solution to the Logistic equation can be derived using symbolic computing. Using Python packages ``scipy``, ``numpy``, and ``matplotlib``, we can obtain our solution and visualize it.\n",
    "\n",
    "```python\n",
    "import sympy as sp\n",
    "import numpy as np\n",
    "import matplotlib.pyplot as plt\n",
    "\n",
    "#Define function P, dependent variable t, and constant k\n",
    "t, k = sp.symbols('t, k')\n",
    "P = sp.Function('P')\n",
    "\n",
    "#Define (1) \n",
    "eq1 = sp.Eq(sp.Derivative(P(t), t), k*P(t)*(1 - P(t)))\n",
    "#Use dsolve to obtain solution\n",
    "sol1 = sp.dsolve(eq1, P(t)) # Without initial condition\n",
    "\n",
    "display(sol1)\n",
    "```\n",
    "$P{\\left(t \\right)} = \\frac{1}{C_{1} e^{- k t} + 1}$"
   ]
  },
  {
   "cell_type": "markdown",
   "id": "65860d63-47b5-4657-9b44-09b487229ca1",
   "metadata": {},
   "source": [
    "#### 2.2.2 Solutions of the Logistic Equation Using Finite Difference\n",
    "From HW10, we dervied the numerical approximation of the Logistic equation using finite difference schemes\n",
    "\n",
    "Using Euler's Method, we can rewrite the Logistic Equation (1.2) as follows:\n",
    "$$ \\frac{P_{n+1}-P_n}{\\Delta t} = kP_n(1 - P_n) \\tag{2.19}$$\n",
    "\n",
    "Isolating the left hand side,\n",
    "\n",
    "$$  P_{n+1}- P_n = \\Delta tk  P_n(1- P_n) \\tag{2.20}$$\n",
    "\n",
    "then isolating the $  P_{n+1} $ term\n",
    "\n",
    "$$  P_{n+1} =  P_n + (\\Delta tk)P_n(1- P_n) = P_n(1 + \\Delta tk)(1- P_n) \\tag{2.21}$$\n",
    "\n",
    "and for $a = (1 + \\Delta tk)$,\n",
    "\n",
    "$$  P_{n+1} =  aP_n(1- P_n) \\tag{2.22}$$"
   ]
  },
  {
   "cell_type": "markdown",
   "id": "623fa1c2-0942-4b45-b70e-25371db67e0b",
   "metadata": {},
   "source": [
    "#### 2.2.3 Continuous and Discrete Verisons of the Logistic Map\n",
    "\n",
    "We explored the concepts described by May and Lorenz in HW10. Using the form of Eq(1.4), we calculated the numerical approximation of the Logistic map and plotted our results for different values of $a$.\n",
    "```python\n",
    "#Define initial conditions and parameters\n",
    "P0 = 0.1\n",
    "a = [1.8, 2.0, 2.5, 3.5, 3.8, 4.0]\n",
    "\n",
    "#For iteration\n",
    "Pvals = []\n",
    "tVals = []\n",
    "\n",
    "#Define X and t using different values of sigdt\n",
    "for i in a:\n",
    "    t = np.arange(0, 40+i, i)\n",
    "    P = np.zeros(len(t))\n",
    "    P[0] = P0\n",
    "    #Euler method calculation\n",
    "    for n in range(0,len(P)-1):\n",
    "        P[n+1] = P[n] + i*P[n]*(1-P[n])\n",
    "    #Add t-X values to iteration lists\n",
    "    Pvals.append(P)\n",
    "    tVals.append(t)\n",
    "\n",
    "plt.figure(figsize=(9,6))\n",
    "for i in range(0, len(Pvals)):\n",
    "    plt.subplot(2,3,i+1)\n",
    "    plt.plot(tVals[i], Pvals[i], label=f'{a[i]}')\n",
    "    plt.legend()\n",
    "    plt.grid()\n",
    "\n",
    "plt.tight_layout()\n",
    "plt.show()\n",
    "```\n",
    "\n",
    "Our results in these graphs support the claims made by May and Lorenz, that $P$ begins to behave chaotically as $a \\to 4$"
   ]
  },
  {
   "cell_type": "markdown",
   "id": "7471343e-4402-4ae5-b5ec-d05b7071519a",
   "metadata": {},
   "source": [
    "### 2.3 Sigmoid and Softmax Functions"
   ]
  },
  {
   "cell_type": "markdown",
   "id": "54a2fd54-1e91-4754-bec0-db66aa891c7c",
   "metadata": {},
   "source": [
    "The following concepts are explored in HW3 and HW5 respectively."
   ]
  },
  {
   "cell_type": "markdown",
   "id": "3a11b2bb-2db9-4462-a58a-fa54a9d13575",
   "metadata": {},
   "source": [
    "#### 2.3.1 Sigmoid Function\n",
    "The solution given by Eq(1.4) goes by another name other than the Logistic function. This function also goes by the Sigmoid function, denoted\n",
    "$$ \\sigma = \\frac{1}{1+e^{-t}} \\tag{2.23}$$\n",
    "As we can see this function is equivalent to Eq(1.4), for $P_0 = 1$\n",
    "\n",
    "```python\n",
    "def sig(x):\n",
    "    return 1/(1+np.exp(-x))\n",
    "\n",
    "r1 = np.linspace(0,5,100)\n",
    "r2 = np.linspace(-5,5,100)\n",
    "title1 = r'Graph of $\\sigma$ = $\\frac{1}{1+e^{-x}}$'\n",
    "plt.title(title1, size=10)\n",
    "plt.plot(r1, sig(r1))\n",
    "plt.grid()\n",
    "plt.show()\n",
    "```"
   ]
  },
  {
   "cell_type": "markdown",
   "id": "3c9b3a42-a98c-4050-8c18-61b2f324c381",
   "metadata": {},
   "source": [
    "#### 2.3.2 Softmax Function\n",
    "The Softmax function is an activation function that similar to the Sigmoid function. Described as an extension of the Sigmoid function, it entends to multi-class problems. \n",
    "Given $x = (x_{1}, x_{2}, ..., x_{K})$:\n",
    "$$ \\sigma(x)_{i} = \\frac {e^{x_{i}}}{\\sum_{j=1}^{K} e^{x_{j}}} \\tag{2.24}$$\n",
    "\n",
    "The following python code defines two methods of calculating the Softmax function and compares its output\n",
    "```python\n",
    "def softmax(x):\n",
    "    exp_x = np.exp(x)\n",
    "    return exp_x/exp_x.sum()\n",
    "\n",
    "def softmax_loop(x):\n",
    "    #Create array same length as x\n",
    "    sigma = np.arange(0.0,len(x))\n",
    "    #Sum variable\n",
    "    exp_sum = 0\n",
    "    for i in range(0, len(x)):\n",
    "        #Find e^x_i\n",
    "        exp_x = np.exp(x[i])\n",
    "        #Add e^x_i to sum \n",
    "        exp_sum += exp_x\n",
    "        #Store sigma(x)_i\n",
    "        sigma[i] = exp_x/exp_sum\n",
    "    return sigma\n",
    "    \n",
    "#Example input vector\n",
    "input_vector = np.array([10, 2.0, 0.1])\n",
    "\n",
    "#Applying softmax\n",
    "output_vector = softmax(input_vector)\n",
    "output_vector2 = softmax_loop(input_vector)\n",
    "#Displaying results\n",
    "print(\"Input Vector:\", input_vector)\n",
    "print(\"Softmax Output:\\n\", output_vector)\n",
    "print('Softmax_loop Output:\\n', output_vector2)\n",
    "#Compare values\n",
    "print('Difference of Softmax and Softmax_loop functions for each value of x:\\n', (output_vector2-output_vector))\n",
    "```\n",
    "```\n",
    "Input Vector: \n",
    "[10.   2.   0.1]\n",
    "\n",
    "Softmax Output: \n",
    "[9.99614511e-01 3.35333311e-04 5.01553403e-05]\n",
    "\n",
    "Softmax_loop Output:\n",
    " [1.00000000e+00 3.35350130e-04 5.01553403e-05]\n",
    "\n",
    "Difference of Softmax and Softmax_loop functions for each value of x:\n",
    " [3.85488651e-04 1.68195999e-08 0.00000000e+00]\n",
    "\n",
    "```"
   ]
  },
  {
   "cell_type": "markdown",
   "id": "69093216-1f94-4f34-b1af-3a9c22229b2c",
   "metadata": {},
   "source": [
    "## 3. Results and Discussions"
   ]
  },
  {
   "cell_type": "markdown",
   "id": "f4666c2c-8226-4809-ac96-dd3be9b8aa5e",
   "metadata": {},
   "source": [
    "Referencing section 2.1.2, this Python code demonstrates the effectiveness of the Euler method in approximating the solution to Eq(1.1)\n",
    "```python\n",
    "import numpy as np\n",
    "import matplotlib.pyplot as plt\n",
    "\n",
    "#Define parameters\n",
    "dt = 0.001\n",
    "t = np.arange(0,10+dt,dt)\n",
    "sigma = 0.2\n",
    "y0 = 0.01\n",
    "#Create function array that is same size as domain\n",
    "y = np.zeros(len(t)) #Will add correct values\n",
    "#Initial condition\n",
    "y[0] = y0\n",
    "\n",
    "#Calculate values of y using Euler method\n",
    "for i in range(0, len(y)-1):\n",
    "    #Approximation formula\n",
    "    y[i+1] = y[i] + dt*(sigma*y[i])\n",
    "\n",
    "#Generate plot\n",
    "plt.plot(t, y, 'k', linewidth=3)\n",
    "plt.plot(t, y0*np.exp(sigma*t), '--', color='orange')\n",
    "plt.legend(['Numerical Solution', 'Analytical Solution'])\n",
    "plt.title(r'Numerical and Analytical Solution for DE: $\\frac{dy}{dt} = \\sigma t$')\n",
    "plt.ylabel('y(t)')\n",
    "plt.xlabel('t')\n",
    "plt.grid()\n",
    "plt.show()\n",
    "``` "
   ]
  },
  {
   "cell_type": "markdown",
   "id": "b41db55c-a910-4e64-a3c0-72fb5b7c5def",
   "metadata": {},
   "source": [
    "![Euler-ODE.png](Euler-ODE.png)"
   ]
  },
  {
   "cell_type": "markdown",
   "id": "64b8bcca-4e18-4a9f-9df7-690fa7ddb87d",
   "metadata": {},
   "source": [
    "As you can see, the numerical solution and analytical solution are approximately the same.\n"
   ]
  },
  {
   "cell_type": "markdown",
   "id": "31f64a41-4d09-4817-9a38-80a89ee1d3ad",
   "metadata": {},
   "source": [
    "This plot belongs to the code given in section 2.2.3. As we can see, this visualization follows the behavior described by the Logistic Map Wikipedia page. "
   ]
  },
  {
   "cell_type": "markdown",
   "id": "9658e03d-4a4c-4b5a-92f6-f80c88cab53f",
   "metadata": {},
   "source": [
    "![Logistic-Map-Panel-Plot](Logistic-Map-Panel-Plot.png)"
   ]
  },
  {
   "cell_type": "markdown",
   "id": "13e402cf-1d34-41e0-8e8e-4590ca842de5",
   "metadata": {},
   "source": [
    "This graph below is corresponds to 2.3.1\n",
    "![sigmoid](sigmoid.png)\n",
    "From this graph we can see how the solution of the Logistic Equation behaves over the interval [0,5]"
   ]
  },
  {
   "cell_type": "markdown",
   "id": "f90a47a5-b9e0-4a51-affe-882734c9e26b",
   "metadata": {},
   "source": [
    "## 4. Conclusion"
   ]
  },
  {
   "cell_type": "markdown",
   "id": "ac425362-0dc0-4c15-bdeb-50c0765061e3",
   "metadata": {},
   "source": [
    "The information given by Robert May in *Simple Mathematical Models With Very Complicated Dynamics* and *The Problem of Deducing the Climate from the Governing Equations* by Edward Lorenz, as well as the Logistic Map Wikipedia are extremely helpful in understanding the characteristics of the Logistic Equation. In addition to reviewing these literature, over the course of the semester these same characteristics were explored in homework assignments in the Math340 course. Topics covered included The Simplest ODE, Using Finite Difference Methods to solve ODEs, The simplest ODE and its connection to the Fibonacci Sequence, Solutions of the Logistic Equation using symbolic compuring, Numerical solutions of the Logistic Map, he Sigmoid function and The Softmax function. In covering these topics, I have gained valuable exerience in modeling, compuation, and visualization that I hope will allow me to pursue a career in Data Analytics. "
   ]
  },
  {
   "cell_type": "markdown",
   "id": "8ba13ff2-8383-4486-8145-9b7524dd1499",
   "metadata": {},
   "source": [
    "### Author Contributions\n",
    "Introduction, V.V.; Methodology, V.V; Results and Discussions, V.V; writing—original draft preparation, V.V; writing—review and editing, V.V\\\n",
    "All authors have read and agreed to the published version of the manuscript."
   ]
  },
  {
   "cell_type": "markdown",
   "id": "d648ca4d-73f5-402f-bed8-29c90976fabb",
   "metadata": {},
   "source": [
    "### Appendices"
   ]
  },
  {
   "cell_type": "code",
   "execution_count": null,
   "id": "e991c85b-4ea5-450e-9bfb-26468483de49",
   "metadata": {},
   "outputs": [],
   "source": [
    "\"\"\"Python Code used above\"\"\"\n",
    "#General import statements\n",
    "import sympy as sp\n",
    "import numpy as np\n",
    "import matplotlib.pyplot as plt\n",
    "\n",
    "#Define function P, dependent variable t, and constant k\n",
    "t, k = sp.symbols('t, k')\n",
    "P = sp.Function('P')\n",
    "\n",
    "#Define (1) \n",
    "eq1 = sp.Eq(sp.Derivative(P(t), t), k*P(t)*(1 - P(t)))\n",
    "#Use dsolve to obtain solution\n",
    "sol1 = sp.dsolve(eq1, P(t)) # Without initial condition\n",
    "x\n",
    "display(sol1)"
   ]
  },
  {
   "cell_type": "code",
   "execution_count": null,
   "id": "e8b40701-1cdb-429e-b098-fb9b01832a64",
   "metadata": {},
   "outputs": [],
   "source": [
    "#Define initial conditions and parameters\n",
    "P0 = 0.1\n",
    "a = [1.8, 2.0, 2.5, 3.5, 3.8, 4.0]\n",
    "\n",
    "#For iteration\n",
    "Pvals = []\n",
    "tVals = []\n",
    "\n",
    "#Define X and t using different values of sigdt\n",
    "for i in a:\n",
    "    t = np.arange(0, 40+i, i)\n",
    "    P = np.zeros(len(t))\n",
    "    P[0] = P0\n",
    "    #Euler method calculation\n",
    "    for n in range(0,len(P)-1):\n",
    "        P[n+1] = P[n] + i*P[n]*(1-P[n])\n",
    "    #Add t-X values to iteration lists\n",
    "    Pvals.append(P)\n",
    "    tVals.append(t)\n",
    "\n",
    "plt.figure(figsize=(9,6))\n",
    "for i in range(0, len(Pvals)):\n",
    "    plt.subplot(2,3,i+1)\n",
    "    plt.plot(tVals[i], Pvals[i], label=f'{a[i]}')\n",
    "    plt.legend()\n",
    "    plt.grid()\n",
    "\n",
    "plt.tight_layout()\n",
    "plt.show()"
   ]
  },
  {
   "cell_type": "code",
   "execution_count": null,
   "id": "378068ff-d26b-4adb-ab6f-e4d9aac7f465",
   "metadata": {},
   "outputs": [],
   "source": [
    "def sig(x):\n",
    "    return 1/(1+np.exp(-x))\n",
    "\n",
    "r1 = np.linspace(0,5,100)\n",
    "r2 = np.linspace(-5,5,100)\n",
    "title1 = r'Graph of $\\sigma$ = $\\frac{1}{1+e^{-x}}$'\n",
    "plt.title(title1, size=10)\n",
    "plt.plot(r1, sig(r1))\n",
    "plt.grid()\n",
    "plt.show()"
   ]
  },
  {
   "cell_type": "code",
   "execution_count": null,
   "id": "a7179e19-8d35-4973-ab92-23ba9d7847ed",
   "metadata": {},
   "outputs": [],
   "source": [
    "def softmax(x):\n",
    "    exp_x = np.exp(x)\n",
    "    return exp_x/exp_x.sum()\n",
    "\n",
    "def softmax_loop(x):\n",
    "    #Create array same length as x\n",
    "    sigma = np.arange(0.0,len(x))\n",
    "    #Sum variable\n",
    "    exp_sum = 0\n",
    "    for i in range(0, len(x)):\n",
    "        #Find e^x_i\n",
    "        exp_x = np.exp(x[i])\n",
    "        #Add e^x_i to sum \n",
    "        exp_sum += exp_x\n",
    "        #Store sigma(x)_i\n",
    "        sigma[i] = exp_x/exp_sum\n",
    "    return sigma\n",
    "    \n",
    "#Example input vector\n",
    "input_vector = np.array([10, 2.0, 0.1])\n",
    "\n",
    "#Applying softmax\n",
    "output_vector = softmax(input_vector)\n",
    "output_vector2 = softmax_loop(input_vector)\n",
    "#Displaying results\n",
    "print(\"Input Vector:\", input_vector)\n",
    "print(\"Softmax Output:\\n\", output_vector)\n",
    "print('Softmax_loop Output:\\n', output_vector2)\n",
    "#Compare values\n",
    "print('Difference of Softmax and Softmax_loop functions for each value of x:\\n', (output_vector2-output_vector))"
   ]
  },
  {
   "cell_type": "code",
   "execution_count": null,
   "id": "1535a3bc-7fae-4a20-8d20-2e3cda5e7afa",
   "metadata": {},
   "outputs": [],
   "source": [
    "import numpy as np\n",
    "import matplotlib.pyplot as plt\n",
    "\n",
    "#Define parameters\n",
    "dt = 0.001\n",
    "t = np.arange(0,10+dt,dt)\n",
    "sigma = 0.2\n",
    "y0 = 0.01\n",
    "#Create function array that is same size as domain\n",
    "y = np.zeros(len(t)) #Will add correct values\n",
    "#Initial condition\n",
    "y[0] = y0\n",
    "\n",
    "#Calculate values of y using Euler method\n",
    "for i in range(0, len(y)-1):\n",
    "    #Approximation formula\n",
    "    y[i+1] = y[i] + dt*(sigma*y[i])\n",
    "\n",
    "#Generate plot\n",
    "plt.plot(t, y, 'k', linewidth=3)\n",
    "plt.plot(t, y0*np.exp(sigma*t), '--', color='orange')\n",
    "plt.legend(['Numerical Solution', 'Analytical Solution'])\n",
    "plt.title(r'Numerical and Analytical Solution for DE: $\\frac{dy}{dt} = \\sigma t$')\n",
    "plt.ylabel('y(t)')\n",
    "plt.xlabel('t')\n",
    "plt.grid()\n",
    "plt.show()"
   ]
  },
  {
   "cell_type": "markdown",
   "id": "f891ba22-b355-4e9b-9cc6-330eae719f00",
   "metadata": {},
   "source": [
    "### References\n",
    "Lorenz, 1964: The Problem of Deducing the Climate from the Governing Equations. Massachusetts Institute of Technology. 2024\\\n",
    "May, 1976: Simple Mathematical Models With Very Complicated Dynamics. University of Oxford. 2024.\\\n",
    "Verdugo, 2024: Report on Homework Assignments 3, 5, 9, 10. Math 340 Programming in Mathematics. San Diego State University. 2024"
   ]
  },
  {
   "cell_type": "code",
   "execution_count": null,
   "id": "0e8595cd-e2c6-4d00-b8af-3aa1a2a8720b",
   "metadata": {},
   "outputs": [],
   "source": []
  }
 ],
 "metadata": {
  "kernelspec": {
   "display_name": "Python 3 (ipykernel)",
   "language": "python",
   "name": "python3"
  },
  "language_info": {
   "codemirror_mode": {
    "name": "ipython",
    "version": 3
   },
   "file_extension": ".py",
   "mimetype": "text/x-python",
   "name": "python",
   "nbconvert_exporter": "python",
   "pygments_lexer": "ipython3",
   "version": "3.12.7"
  }
 },
 "nbformat": 4,
 "nbformat_minor": 5
}
