{
 "cells": [
  {
   "cell_type": "markdown",
   "id": "ab3a79e5-4f2e-4e91-bef4-3ed87ab1ce2a",
   "metadata": {
    "id": "ab3a79e5-4f2e-4e91-bef4-3ed87ab1ce2a"
   },
   "source": [
    "<center>\n",
    "<h1> </h1>\n",
    "<h1><font size=\"+3\"> <b> Math340 HW1 </b> </font></h1>\n",
    "<h1><font size=\"+3\"> <b> Programming in Mathematics </b> </font></h1>\n",
    "<h1><font size=\"+3\"> <b> Due September 6, 2024 </b> </font></h1>  \n",
    "</center>\n",
    "\n",
    "<br>\n",
    "\n",
    "<center>\n",
    "<font size=\"+2\">\n",
    "Department of Mathematics and Statistics <br> <br>\n",
    "San Diego State University <br> <br>\n",
    "Fall 2024\n",
    "</font>\n",
    "</center>\n",
    "\n",
    "\n",
    "\n",
    "\n",
    "\n",
    "\n"
   ]
  },
  {
   "cell_type": "markdown",
   "id": "d1d7dfac",
   "metadata": {
    "id": "d1d7dfac",
    "jp-MarkdownHeadingCollapsed": true
   },
   "source": [
    "## Your Name: Vince Verdugo\n",
    "\n",
    "## Your ID: 826107601"
   ]
  },
  {
   "cell_type": "markdown",
   "id": "ac00d7e8-7894-471c-b22c-534f7bb771c5",
   "metadata": {
    "id": "ac00d7e8-7894-471c-b22c-534f7bb771c5"
   },
   "source": [
    "## 1. Summary"
   ]
  },
  {
   "cell_type": "markdown",
   "id": "e5e767c2-73b8-4c0e-97e4-4e44b568eba4",
   "metadata": {
    "id": "e5e767c2-73b8-4c0e-97e4-4e44b568eba4"
   },
   "source": [
    "The first segment of code is the line 'print(\"Hello World\")', which outputs \"Hello World\". "
   ]
  },
  {
   "cell_type": "markdown",
   "id": "a5271f68-9e08-468f-8368-6d2dfe2e77bc",
   "metadata": {},
   "source": [
    "In the second segment of code, the first line imports the package 'datetime' which is from the library 'datetime'. The second line creates an object named 'now' which uses the function 'datetime.now()' to assign 'now' with \"2024, 8, 29, 14, 42, 39, 674087\". 'current_time' converts 'now' into a formatted string. Then the last line, 'print(\"Current Time = \" , current_time)' outputs our formatted time \"Current Time = 14:54:28 2024-08-29\""
   ]
  },
  {
   "cell_type": "markdown",
   "id": "c2d32951-96b7-4688-a721-8c2468b075e5",
   "metadata": {
    "id": "c2d32951-96b7-4688-a721-8c2468b075e5"
   },
   "source": [
    "## 2. Methodology"
   ]
  },
  {
   "cell_type": "markdown",
   "id": "06e8a2a7",
   "metadata": {
    "id": "06e8a2a7"
   },
   "source": [
    "Your methodology"
   ]
  },
  {
   "cell_type": "markdown",
   "id": "6241913d-4853-4c7d-b624-709b27e427e5",
   "metadata": {
    "id": "6241913d-4853-4c7d-b624-709b27e427e5"
   },
   "source": [
    "## 3. Code and Results (e.g., Tables, Figures, Outputs)"
   ]
  },
  {
   "cell_type": "markdown",
   "id": "875c1e32",
   "metadata": {
    "id": "875c1e32"
   },
   "source": [
    "### Results for Question 3 (within a Markdown cell)"
   ]
  },
  {
   "cell_type": "code",
   "execution_count": 1,
   "id": "36708339",
   "metadata": {
    "id": "36708339"
   },
   "outputs": [
    {
     "name": "stdout",
     "output_type": "stream",
     "text": [
      "Hello World\n"
     ]
    }
   ],
   "source": [
    "print(\"Hello World\")"
   ]
  },
  {
   "cell_type": "markdown",
   "id": "5ac2cb73-8924-479f-97f0-e77d74605113",
   "metadata": {},
   "source": [
    "Hello World"
   ]
  },
  {
   "cell_type": "code",
   "execution_count": 3,
   "id": "db376cb8",
   "metadata": {
    "id": "db376cb8"
   },
   "outputs": [
    {
     "name": "stdout",
     "output_type": "stream",
     "text": [
      "Current Time = 11:03:00 2024-08-30\n"
     ]
    }
   ],
   "source": [
    "from datetime import datetime\n",
    "\n",
    "now = datetime.now()\n",
    "current_time = now.strftime(\"%H:%M:%S %Y-%m-%d\")\n",
    "print(\"Current Time =\", current_time)"
   ]
  },
  {
   "cell_type": "markdown",
   "id": "8e35c6be-aef1-4926-9ba4-80b09562d9d7",
   "metadata": {},
   "source": [
    "Current Time = 11:03:00 2024-08-30"
   ]
  },
  {
   "cell_type": "code",
   "execution_count": null,
   "id": "1b6526cf-ef2b-478c-910d-7328b788a2cc",
   "metadata": {},
   "outputs": [],
   "source": []
  }
 ],
 "metadata": {
  "colab": {
   "provenance": []
  },
  "kernelspec": {
   "display_name": "Python 3 (ipykernel)",
   "language": "python",
   "name": "python3"
  },
  "language_info": {
   "codemirror_mode": {
    "name": "ipython",
    "version": 3
   },
   "file_extension": ".py",
   "mimetype": "text/x-python",
   "name": "python",
   "nbconvert_exporter": "python",
   "pygments_lexer": "ipython3",
   "version": "3.11.5"
  }
 },
 "nbformat": 4,
 "nbformat_minor": 5
}
